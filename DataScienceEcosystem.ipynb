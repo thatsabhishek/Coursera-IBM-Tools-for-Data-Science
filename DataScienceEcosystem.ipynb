{
  "nbformat": 4,
  "nbformat_minor": 0,
  "metadata": {
    "colab": {
      "provenance": []
    },
    "kernelspec": {
      "name": "python3",
      "display_name": "Python 3"
    },
    "language_info": {
      "name": "python"
    }
  },
  "cells": [
    {
      "cell_type": "markdown",
      "source": [
        "##### Exercise 2\n",
        "# Data Science Tools and Ecosystem"
      ],
      "metadata": {
        "id": "DYNP03tukddt"
      }
    },
    {
      "cell_type": "markdown",
      "source": [
        "##### Exercise 3\n",
        "In this notebook, Data Science Tools and Ecosystem are summarized."
      ],
      "metadata": {
        "id": "8hiltlA6nrig"
      }
    },
    {
      "cell_type": "markdown",
      "source": [
        "##### Exercise 10\n",
        "**Objectives:**\n",
        "- List popular languages for Data Science.\n",
        "- Introduce common Data Science tools.\n",
        "- Create Markdown cells in Jupyter Notebook.\n",
        "- Perform basic arithmetic operations in Python.\n",
        "- Convert minutes to hours using Python code.\n",
        "- Add an Author  \n",
        "- Upload this notebook to GitHub."
      ],
      "metadata": {
        "id": "_yQ6dun7Mc3g"
      }
    },
    {
      "cell_type": "markdown",
      "source": [
        "##### Exercise 4\n",
        "Some of the popular languages that Data Scientists use are:\n",
        "1. Python\n",
        "2. R\n",
        "3. Julia\n",
        "4. Scala\n",
        "5. JavaScript"
      ],
      "metadata": {
        "id": "VTTcspzen9di"
      }
    },
    {
      "cell_type": "markdown",
      "source": [
        "##### Exercise 5\n",
        "Some of the commonly used libraries used by Data Scientists include:\n",
        "1. NumPy.\n",
        "2. Keras.\n",
        "3. Pandas.\n",
        "4. PyTorch.\n",
        "5. SciPy.\n",
        "6. Scikit-Learn.\n",
        "7. TensorFlow.\n",
        "8. Matplotlib."
      ],
      "metadata": {
        "id": "1G4rM9mtqQDx"
      }
    },
    {
      "cell_type": "markdown",
      "source": [
        "##### Exercise 6\n",
        "Table of Data Science Tools\n",
        "\n",
        "| Data Science Tools |\n",
        "| -------------|\n",
        "| IBM Watson Studio |\n",
        "| Jupyter |\n",
        "| RStudio |\n",
        "| Apache Zeppelin |\n",
        "| Google Colab |"
      ],
      "metadata": {
        "id": "u1av-KINqks1"
      }
    },
    {
      "cell_type": "markdown",
      "source": [
        "##### Exercise 7\n",
        "### Below are a few examples of evaluating arithmetic expressions in Python"
      ],
      "metadata": {
        "id": "9FnB0Tr1rS_-"
      }
    },
    {
      "cell_type": "markdown",
      "source": [
        "##### Exercise 8"
      ],
      "metadata": {
        "id": "gtxuGlcErpTE"
      }
    },
    {
      "cell_type": "code",
      "source": [
        "#This a simple arithmetic expression to mutiply then add integers\n",
        "(3*4)+5"
      ],
      "metadata": {
        "colab": {
          "base_uri": "https://localhost:8080/"
        },
        "id": "o55Nenmtsb3-",
        "outputId": "3310d9b1-1d22-4a0c-b535-247b94d178ca"
      },
      "execution_count": 1,
      "outputs": [
        {
          "output_type": "execute_result",
          "data": {
            "text/plain": [
              "17"
            ]
          },
          "metadata": {},
          "execution_count": 1
        }
      ]
    },
    {
      "cell_type": "markdown",
      "source": [
        "##### Exercise 9"
      ],
      "metadata": {
        "id": "hq-pJhSUswpY"
      }
    },
    {
      "cell_type": "code",
      "source": [
        "#This will convert 200 minutes to hours by diving by 60\n",
        "200/60"
      ],
      "metadata": {
        "colab": {
          "base_uri": "https://localhost:8080/"
        },
        "id": "GtQy5bM-sy1z",
        "outputId": "ff908d66-ae3f-4695-992f-72e605481a99"
      },
      "execution_count": 2,
      "outputs": [
        {
          "output_type": "execute_result",
          "data": {
            "text/plain": [
              "3.3333333333333335"
            ]
          },
          "metadata": {},
          "execution_count": 2
        }
      ]
    },
    {
      "cell_type": "markdown",
      "source": [
        "##### Exercise 11\n",
        "\n",
        "## Author\n",
        "Abhishek Gupta"
      ],
      "metadata": {
        "id": "r48zgpeEtoXV"
      }
    }
  ]
}